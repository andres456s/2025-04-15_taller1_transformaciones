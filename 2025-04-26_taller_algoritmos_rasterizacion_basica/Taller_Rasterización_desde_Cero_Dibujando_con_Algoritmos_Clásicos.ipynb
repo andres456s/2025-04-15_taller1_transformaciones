{
  "cells": [
    {
      "cell_type": "code",
      "execution_count": null,
      "metadata": {
        "id": "ZVKY-r6lEkmr"
      },
      "outputs": [
        {
          "ename": "",
          "evalue": "",
          "output_type": "error",
          "traceback": [
            "\u001b[1;31mRunning cells with 'Python 3.13.3' requires the ipykernel package.\n",
            "\u001b[1;31m<a href='command:jupyter.createPythonEnvAndSelectController'>Create a Python Environment</a> with the required packages.\n",
            "\u001b[1;31mOr install 'ipykernel' using the command: 'c:/Users/andre/AppData/Local/Programs/Python/Python313/python.exe -m pip install ipykernel -U --user --force-reinstall'"
          ]
        }
      ],
      "source": [
        "from PIL import Image, ImageDraw\n",
        "import matplotlib.pyplot as plt\n",
        "\n",
        "def crear_imagen(width=200, height=200):\n",
        "  \"\"\"Crea una nueva imagen y devuelve la imagen y los pixeles.\"\"\"\n",
        "  image = Image.new('RGB', (width, height), 'white')\n",
        "  pixels = image.load()\n",
        "  return image, pixels\n",
        "\n",
        "image, pixels = crear_imagen()\n"
      ]
    },
    {
      "cell_type": "code",
      "execution_count": null,
      "metadata": {
        "colab": {
          "base_uri": "https://localhost:8080/"
        },
        "id": "4e8Q2-U_DVqe",
        "outputId": "182016a5-f8cd-4ad0-a80c-91efaf82ee03"
      },
      "outputs": [],
      "source": [
        "%%bash\n",
        "mkdir -p /content/Resultados\n",
        "echo \"Hola desde Bash\"\n",
        "ls /content\n"
      ]
    },
    {
      "cell_type": "code",
      "execution_count": null,
      "metadata": {
        "id": "58dSssnT-YiR"
      },
      "outputs": [],
      "source": [
        "def bresenham(x0, y0, x1, y1):\n",
        "    dx = abs(x1 - x0)\n",
        "    dy = abs(y1 - y0)\n",
        "    sx = 1 if x0 < x1 else -1\n",
        "    sy = 1 if y0 < y1 else -1\n",
        "    err = dx - dy\n",
        "\n",
        "    while True:\n",
        "        pixels[x0, y0] = (255, 0, 0)\n",
        "        if x0 == x1 and y0 == y1:\n",
        "            break\n",
        "        e2 = 2 * err\n",
        "        if e2 > -dy:\n",
        "            err -= dy\n",
        "            x0 += sx\n",
        "        if e2 < dx:\n",
        "            err += dx\n",
        "            y0 += sy\n"
      ]
    },
    {
      "cell_type": "code",
      "execution_count": null,
      "metadata": {
        "id": "uENzIZ-D-byH"
      },
      "outputs": [],
      "source": [
        "bresenham(20, 20, 180, 120)\n",
        "image.save(\"/content/Resultados/linea.png\")"
      ]
    },
    {
      "cell_type": "code",
      "execution_count": null,
      "metadata": {
        "id": "SYr7JuORCAgb"
      },
      "outputs": [],
      "source": [
        "def midpoint_circle(x0, y0, radius,pixels):\n",
        "    x = radius\n",
        "    y = 0\n",
        "    p = 1 - radius\n",
        "\n",
        "    while x >= y:\n",
        "        for dx, dy in [(x, y), (y, x), (-x, y), (-y, x), (-x, -y), (-y, -x), (x, -y), (y, -x)]:\n",
        "            if 0 <= x0 + dx < width and 0 <= y0 + dy < height:\n",
        "                pixels[x0 + dx, y0 + dy] = (0, 0, 255)\n",
        "        y += 1\n",
        "        if p <= 0:\n",
        "            p = p + 2*y + 1\n",
        "        else:\n",
        "            x -= 1\n",
        "            p = p + 2*y - 2*x + 1\n"
      ]
    },
    {
      "cell_type": "code",
      "execution_count": null,
      "metadata": {
        "id": "piCGQzSiCCaO"
      },
      "outputs": [],
      "source": [
        "\n",
        "image2, pixels2 = crear_imagen()\n",
        "midpoint_circle(100, 100, 40,pixels2)\n",
        "image2.save(\"/content/Resultados/circulo.png\")"
      ]
    },
    {
      "cell_type": "code",
      "execution_count": null,
      "metadata": {
        "id": "P1Ezs2W8CEeR"
      },
      "outputs": [],
      "source": [
        "def fill_triangle(p1, p2, p3,pixels):\n",
        "    # ordenar por y\n",
        "    pts = sorted([p1, p2, p3], key=lambda p: p[1])\n",
        "    (x1, y1), (x2, y2), (x3, y3) = pts\n",
        "\n",
        "    def interpolate(y0, y1, x0, x1):\n",
        "        if y1 - y0 == 0: return []\n",
        "        return [int(x0 + (x1 - x0) * (y - y0) / (y1 - y0)) for y in range(y0, y1)]\n",
        "\n",
        "    x12 = interpolate(y1, y2, x1, x2)\n",
        "    x23 = interpolate(y2, y3, x2, x3)\n",
        "    x13 = interpolate(y1, y3, x1, x3)\n",
        "\n",
        "    x_left = x12 + x23\n",
        "    for y, xl, xr in zip(range(y1, y3), x13, x_left):\n",
        "        for x in range(min(xl, xr), max(xl, xr)):\n",
        "            if 0 <= x < width and 0 <= y < height:\n",
        "                pixels[x, y] = (0, 255, 0)\n"
      ]
    },
    {
      "cell_type": "code",
      "execution_count": null,
      "metadata": {
        "id": "k2YPBQMuCF-4"
      },
      "outputs": [],
      "source": [
        "image3, pixels3 = crear_imagen()\n",
        "fill_triangle((30, 50), (100, 150), (160, 60),pixels3)\n",
        "image3.save(\"/content/Resultados/triangulo.png\")"
      ]
    },
    {
      "cell_type": "markdown",
      "metadata": {
        "id": "ViFT44-uGDqi"
      },
      "source": []
    }
  ],
  "metadata": {
    "colab": {
      "provenance": []
    },
    "kernelspec": {
      "display_name": "Python 3",
      "name": "python3"
    },
    "language_info": {
      "name": "python",
      "version": "3.13.3"
    }
  },
  "nbformat": 4,
  "nbformat_minor": 0
}
